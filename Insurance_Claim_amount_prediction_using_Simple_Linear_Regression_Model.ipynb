{
  "nbformat": 4,
  "nbformat_minor": 0,
  "metadata": {
    "colab": {
      "name": "Insurance Claim amount prediction using Simple Linear Regression Model ",
      "provenance": [],
      "collapsed_sections": [
        "pjt-jYJLxXBI"
      ],
      "toc_visible": true,
      "authorship_tag": "ABX9TyNvXAPh5heW8O0jh+vetBpY",
      "include_colab_link": true
    },
    "kernelspec": {
      "name": "python3",
      "display_name": "Python 3"
    }
  },
  "cells": [
    {
      "cell_type": "markdown",
      "metadata": {
        "id": "view-in-github",
        "colab_type": "text"
      },
      "source": [
        "<a href=\"https://colab.research.google.com/github/satyamraj18/Insurance-Claim-amount-prediction-using-Simple-Linear-Regression-Model-/blob/master/Insurance_Claim_amount_prediction_using_Simple_Linear_Regression_Model.ipynb\" target=\"_parent\"><img src=\"https://colab.research.google.com/assets/colab-badge.svg\" alt=\"Open In Colab\"/></a>"
      ]
    },
    {
      "cell_type": "markdown",
      "metadata": {
        "id": "JFs4VG_3w32d"
      },
      "source": [
        "### Importing Packages "
      ]
    },
    {
      "cell_type": "code",
      "metadata": {
        "id": "StnGo1mBxG86"
      },
      "source": [
        "import numpy as np\n",
        "import matplotlib.pyplot as plt\n",
        "import pandas as pd"
      ],
      "execution_count": null,
      "outputs": []
    },
    {
      "cell_type": "markdown",
      "metadata": {
        "id": "pjt-jYJLxXBI"
      },
      "source": [
        "### Importing Datasets"
      ]
    },
    {
      "cell_type": "code",
      "metadata": {
        "id": "aeho7KeZxjhZ"
      },
      "source": [
        "dataset = pd.read_csv(\"Insurance_Claim_Data1.csv\")\n",
        "X = dataset.iloc[:, :-1].values\n",
        "y = dataset.iloc[:, -1].values "
      ],
      "execution_count": null,
      "outputs": []
    },
    {
      "cell_type": "code",
      "metadata": {
        "id": "wNKbGWUu0o1X",
        "colab": {
          "base_uri": "https://localhost:8080/",
          "height": 1000
        },
        "outputId": "87ebdcb2-5730-468e-f32b-aebaa6a81271"
      },
      "source": [
        "print(X)"
      ],
      "execution_count": null,
      "outputs": [
        {
          "output_type": "stream",
          "text": [
            "[[108]\n",
            " [ 19]\n",
            " [ 13]\n",
            " [124]\n",
            " [ 40]\n",
            " [ 57]\n",
            " [ 23]\n",
            " [ 14]\n",
            " [ 45]\n",
            " [ 10]\n",
            " [  5]\n",
            " [ 48]\n",
            " [ 11]\n",
            " [ 23]\n",
            " [  7]\n",
            " [  2]\n",
            " [ 24]\n",
            " [  6]\n",
            " [  3]\n",
            " [ 23]\n",
            " [  6]\n",
            " [  9]\n",
            " [  9]\n",
            " [  3]\n",
            " [ 29]\n",
            " [  7]\n",
            " [  4]\n",
            " [ 20]\n",
            " [  7]\n",
            " [  4]\n",
            " [  0]\n",
            " [ 25]\n",
            " [  6]\n",
            " [  5]\n",
            " [ 22]\n",
            " [ 11]\n",
            " [ 61]\n",
            " [ 12]\n",
            " [  4]\n",
            " [ 16]\n",
            " [ 13]\n",
            " [ 60]\n",
            " [ 41]\n",
            " [ 37]\n",
            " [ 55]\n",
            " [ 41]\n",
            " [ 11]\n",
            " [ 27]\n",
            " [  8]\n",
            " [  3]\n",
            " [ 17]\n",
            " [ 13]\n",
            " [ 13]\n",
            " [ 15]\n",
            " [  8]\n",
            " [ 29]\n",
            " [ 30]\n",
            " [ 24]\n",
            " [  9]\n",
            " [ 31]\n",
            " [ 14]\n",
            " [ 53]\n",
            " [ 26]]\n"
          ],
          "name": "stdout"
        }
      ]
    },
    {
      "cell_type": "code",
      "metadata": {
        "id": "PIeDpy5t0qjg",
        "colab": {
          "base_uri": "https://localhost:8080/",
          "height": 119
        },
        "outputId": "7d5fed51-00fd-4137-a2a0-4bd38e76d5b6"
      },
      "source": [
        "print(y)"
      ],
      "execution_count": null,
      "outputs": [
        {
          "output_type": "stream",
          "text": [
            "[392.5  46.2  15.7 422.2 119.4 170.9  56.9  77.5 214.   65.3  20.9 248.1\n",
            "  23.5  39.6  48.8   6.6 134.9  50.9   4.4 113.   14.8  48.7  52.1  13.2\n",
            " 103.9  77.5  11.8  98.1  27.9  38.1   0.   69.2  14.6  40.3 161.5  57.2\n",
            " 217.6  58.1  12.6  59.6  89.9 202.4 181.3 152.8 162.8  73.4  21.3  92.6\n",
            "  76.1  39.9 142.1  93.   31.9  32.1  55.6 133.3 194.5 137.9  87.4 209.8\n",
            "  95.5 244.6 187.5]\n"
          ],
          "name": "stdout"
        }
      ]
    },
    {
      "cell_type": "markdown",
      "metadata": {
        "id": "pQ3ggBkW0z9F"
      },
      "source": [
        "### Splitting Data into Training Set and Test Set"
      ]
    },
    {
      "cell_type": "code",
      "metadata": {
        "id": "EWKXRftY09YG"
      },
      "source": [
        "from sklearn.model_selection import train_test_split\n",
        "X_train, X_test, y_train, y_test = train_test_split(X ,y ,test_size=0.2,random_state=0)"
      ],
      "execution_count": null,
      "outputs": []
    },
    {
      "cell_type": "markdown",
      "metadata": {
        "id": "_jTOkmpQ1lpY"
      },
      "source": [
        "### Training the Simple Linear Regression Model on the training set"
      ]
    },
    {
      "cell_type": "code",
      "metadata": {
        "id": "RJBLqHYL1xR7",
        "colab": {
          "base_uri": "https://localhost:8080/",
          "height": 34
        },
        "outputId": "5d14b3e5-64a6-4c62-a526-084c428f4f41"
      },
      "source": [
        "from sklearn.linear_model import LinearRegression\n",
        "regressor = LinearRegression()\n",
        "regressor.fit(X_train,y_train)"
      ],
      "execution_count": null,
      "outputs": [
        {
          "output_type": "execute_result",
          "data": {
            "text/plain": [
              "LinearRegression(copy_X=True, fit_intercept=True, n_jobs=None, normalize=False)"
            ]
          },
          "metadata": {
            "tags": []
          },
          "execution_count": 9
        }
      ]
    },
    {
      "cell_type": "markdown",
      "metadata": {
        "id": "NtF1I8gw2YmB"
      },
      "source": [
        "### Predicting the Test Set Result"
      ]
    },
    {
      "cell_type": "code",
      "metadata": {
        "id": "_HmctDC22cU4"
      },
      "source": [
        "y_pred = regressor.predict(X_test)"
      ],
      "execution_count": null,
      "outputs": []
    },
    {
      "cell_type": "markdown",
      "metadata": {
        "id": "iDyy6ld03GT9"
      },
      "source": [
        "### Visualing the training set results"
      ]
    },
    {
      "cell_type": "code",
      "metadata": {
        "id": "XaMVXG0H3TN8",
        "colab": {
          "base_uri": "https://localhost:8080/",
          "height": 295
        },
        "outputId": "4692c2fe-05e0-49b7-c37c-e3777af515bf"
      },
      "source": [
        "plt.scatter(X_train,y_train,color=\"red\")\n",
        "plt.plot(X_train,regressor.predict(X_train),color=\"blue\")\n",
        "plt.title(\"No of Claims made Vs Total Amount Paid in the Claim\")\n",
        "plt.xlabel(\"No of Claims made\")\n",
        "plt.ylabel(\"Total Amount Paid in the Claim\")\n",
        "plt.show()"
      ],
      "execution_count": null,
      "outputs": [
        {
          "output_type": "display_data",
          "data": {
            "image/png": "[encoded data removed]",
            "text/plain": [
              "<Figure size 432x288 with 1 Axes>"
            ]
          },
          "metadata": {
            "tags": [],
            "needs_background": "light"
          }
        }
      ]
    },
    {
      "cell_type": "markdown",
      "metadata": {
        "id": "q9WWvPbk4Z9S"
      },
      "source": [
        "### Visualing the test set results"
      ]
    },
    {
      "cell_type": "code",
      "metadata": {
        "id": "V0F6DrWi4gEf",
        "colab": {
          "base_uri": "https://localhost:8080/",
          "height": 295
        },
        "outputId": "20a65ec5-31b6-4783-ecbb-4932ec5fea17"
      },
      "source": [
        "plt.scatter(X_test,y_test,color=\"red\")\n",
        "plt.plot(X_train,regressor.predict(X_train),color=\"blue\")\n",
        "plt.title(\"No of Claims made Vs Total Amount Paid in the Claim\")\n",
        "plt.xlabel(\"No of Claims made\")\n",
        "plt.ylabel(\"Total Amount Paid in the Claim\")\n",
        "plt.show()"
      ],
      "execution_count": null,
      "outputs": [
        {
          "output_type": "display_data",
          "data": {
            "image/png": "[encoded data removed]",
            "text/plain": [
              "<Figure size 432x288 with 1 Axes>"
            ]
          },
          "metadata": {
            "tags": [],
            "needs_background": "light"
          }
        }
      ]
    }
  ]
}